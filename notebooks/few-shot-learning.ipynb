{
 "cells": [
  {
   "cell_type": "code",
   "execution_count": 6,
   "id": "f54f5224-a546-4c49-a321-606ed95c6629",
   "metadata": {},
   "outputs": [],
   "source": [
    "import os\n",
    "import json\n",
    "import random\n",
    "import pandas as pd\n",
    "from together import Together"
   ]
  },
  {
   "cell_type": "markdown",
   "id": "dd445aff",
   "metadata": {},
   "source": [
    "Khởi tạo API và tạo prompt cho LLM để phân tích ngữ cảnh gay cười"
   ]
  },
  {
   "cell_type": "code",
   "execution_count": 7,
   "id": "0e329039-038a-47c3-8262-9d9f127ba408",
   "metadata": {},
   "outputs": [],
   "source": [
    "# Khởi tạo client của Together API\n",
    "client = Together(api_key=\"\")\n",
    "\n",
    "# Đường dẫn thư mục\n",
    "base_dir = \"D:\\\\DS310-P11-Nhom15\"\n",
    "conversation_dir = os.path.join(base_dir, \"data\", \"Videos_text_represenations\")\n",
    "label_dir = os.path.join(base_dir, \"data\", \"Humor_Explainations\")\n",
    "\n",
    "# Hàm load các đoạn hội thoại\n",
    "def load_conversations_and_labels():\n",
    "    data = []\n",
    "    for i in range(41, 114):\n",
    "        # Đọc file JSON\n",
    "        conversation_file = os.path.join(conversation_dir, f\"output_{i}.json\")\n",
    "        with open(conversation_file, \"r\", encoding=\"utf-8\") as f:\n",
    "            conversation_segments = json.load(f)\n",
    "        \n",
    "        # Đọc file Markdown\n",
    "        label_file = os.path.join(label_dir, f\"label-{i}.md\")\n",
    "        with open(label_file, \"r\", encoding=\"utf-8\") as f:\n",
    "            label = f.read().strip()\n",
    "        \n",
    "        data.append({\n",
    "            \"conversation_id\": i,\n",
    "            \"conversation_segments\": conversation_segments,\n",
    "            \"label\": label\n",
    "        })\n",
    "    return data\n",
    "\n",
    "# Hàm tạo prompt\n",
    "def create_prompt(conversation, example_1, example_2):\n",
    "    example_prompt = f\"\"\"\n",
    "Bạn là chuyên gia phân tích và giải thích các tình huống hài hước trong các hội thoại. Tôi sẽ cung cấp các đoạn hội thoại, mỗi đoạn hội thoại được chia thành các segment, mỗi segment bao gồm:\n",
    "* Utterance: Nội dung lời nói.\n",
    "* Acoustic Features: Thông tin về giọng nói, tốc độ nói, và cách phát âm.\n",
    "* Visual Description: Mô tả hình ảnh hoặc ngữ cảnh xuất hiện trong cảnh quay.\n",
    "Hãy đọc các đoạn hội thoại và giải thích lý do hài hước trong các đoạn hội thoại này trong một đoạn văn ngắn, không vượt quá trong 100 từ bằng tiếng Việt.\n",
    "\n",
    "### Ví dụ 1:\n",
    "Hội thoại:\n",
    "{json.dumps(example_1['conversation_segments'], ensure_ascii=False, indent=2)}\n",
    "Lý do hài hước: {example_1['label']}\n",
    "\n",
    "### Ví dụ 2:\n",
    "Hội thoại:\n",
    "{json.dumps(example_2['conversation_segments'], ensure_ascii=False, indent=2)}\n",
    "Lý do hài hước: {example_2['label']}\n",
    "\n",
    "### Đoạn hội thoại mới:\n",
    "Hội thoại:\n",
    "{json.dumps(conversation['conversation_segments'], ensure_ascii=False, indent=2)}\n",
    "Lý do hài hước:\n",
    "\"\"\"\n",
    "    return example_prompt"
   ]
  },
  {
   "cell_type": "markdown",
   "id": "047d75f2",
   "metadata": {},
   "source": [
    "Gửi prompt cho Together API"
   ]
  },
  {
   "cell_type": "code",
   "execution_count": 8,
   "id": "7160ec5d-1001-4069-830f-dded07b01398",
   "metadata": {},
   "outputs": [],
   "source": [
    "# Hàm gửi prompt tới Together API\n",
    "def analyze_conversation(prompt):\n",
    "    response = client.chat.completions.create(\n",
    "        model=\"meta-llama/Meta-Llama-3.1-405B-Instruct-Turbo\",\n",
    "        messages=[{\"role\": \"user\", \"content\": prompt}],\n",
    "    )\n",
    "    print( response.usage.total_tokens)\n",
    "    return response.choices[0].message.content.strip()"
   ]
  },
  {
   "cell_type": "markdown",
   "id": "df9c2d9f",
   "metadata": {},
   "source": [
    "Xuất random 2 mẫu làm ví dụ"
   ]
  },
  {
   "cell_type": "code",
   "execution_count": null,
   "id": "ba06ed9a-a5ae-4e89-8451-d2b84fc6f076",
   "metadata": {},
   "outputs": [],
   "source": [
    "# Load dữ liệu\n",
    "data = load_conversations_and_labels()\n",
    "\n",
    "# Chọn 2 mẫu bất kỳ làm ví dụ\n",
    "examples = random.sample(data, 2)\n",
    "example_1, example_2 = examples\n",
    "\n",
    "# Phân tích các mẫu còn lại\n",
    "results = []\n",
    "for conversation in data:\n",
    "    if conversation in examples:\n",
    "        continue  # Bỏ qua 2 mẫu đã chọn\n",
    "    \n",
    "    prompt = create_prompt(conversation, example_1, example_2)\n",
    "    predicted_label = analyze_conversation(prompt)\n",
    "    print(predicted_label)\n",
    "    \n",
    "    results.append({\n",
    "        \"file_name\": f\"output_{conversation['conversation_id']}.json\",\n",
    "        \"predicted_label\": predicted_label\n",
    "    })"
   ]
  },
  {
   "cell_type": "markdown",
   "id": "06e266a2",
   "metadata": {},
   "source": [
    "Lưu lại kết quả"
   ]
  },
  {
   "cell_type": "code",
   "execution_count": null,
   "id": "e9c0dc14-0209-4a16-bc41-138e2e8341c1",
   "metadata": {},
   "outputs": [],
   "source": [
    "# Lưu kết quả vào file CSV\n",
    "output_file = \"D:\\\\DS310-P11-Nhom15\\\\results\\\\meta-llama-Meta-Llama-3.1-405B-Instruct-Turbo.csv\"\n",
    "results_df = pd.DataFrame(results)\n",
    "results_df.to_csv(output_file, index=False, encoding=\"utf-8\")\n",
    "print(f\"Kết quả đã được lưu vào {output_file}\")"
   ]
  },
  {
   "cell_type": "code",
   "execution_count": null,
   "id": "2bb148b2-ccd5-423b-932c-a0da01871854",
   "metadata": {},
   "outputs": [],
   "source": []
  }
 ],
 "metadata": {
  "kernelspec": {
   "display_name": "Python 3 (ipykernel)",
   "language": "python",
   "name": "python3"
  },
  "language_info": {
   "codemirror_mode": {
    "name": "ipython",
    "version": 3
   },
   "file_extension": ".py",
   "mimetype": "text/x-python",
   "name": "python",
   "nbconvert_exporter": "python",
   "pygments_lexer": "ipython3",
   "version": "3.11.7"
  }
 },
 "nbformat": 4,
 "nbformat_minor": 5
}
